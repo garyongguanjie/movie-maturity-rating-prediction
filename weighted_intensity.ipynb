{
 "cells": [
  {
   "cell_type": "markdown",
   "metadata": {},
   "source": [
    "# Movie Maturity rating prediction"
   ]
  },
  {
   "cell_type": "code",
   "execution_count": 1,
   "metadata": {},
   "outputs": [],
   "source": [
    "import pandas as pd\n",
    "import numpy as np\n",
    "from gensim.models import KeyedVectors"
   ]
  },
  {
   "cell_type": "code",
   "execution_count": 2,
   "metadata": {},
   "outputs": [],
   "source": [
    "df = pd.read_csv('movie_cleaned.csv')\n",
    "df.head()\n",
    "g = df.groupby('rating')\n",
    "g = pd.DataFrame(g.apply(lambda x: x.sample(g.size().min()).reset_index(drop=True)))\n",
    "df = g.droplevel(0)\n",
    "df = df.sample(frac=1).reset_index(drop=True)"
   ]
  },
  {
   "cell_type": "markdown",
   "metadata": {},
   "source": [
    "# Clean Texts"
   ]
  },
  {
   "cell_type": "code",
   "execution_count": 3,
   "metadata": {},
   "outputs": [
    {
     "name": "stderr",
     "output_type": "stream",
     "text": [
      "[nltk_data] Downloading package stopwords to\n",
      "[nltk_data]     C:\\Users\\garyo\\AppData\\Roaming\\nltk_data...\n",
      "[nltk_data]   Package stopwords is already up-to-date!\n"
     ]
    }
   ],
   "source": [
    "from nltk.corpus import stopwords\n",
    "import nltk\n",
    "import re\n",
    "nltk.download('stopwords')\n",
    "REPLACE_BY_SPACE_RE = re.compile('[/(){}\\[\\]\\|@,;]')\n",
    "BAD_SYMBOLS_RE = re.compile('[^0-9a-z #+_]')\n",
    "STOPWORDS = set(stopwords.words('english'))"
   ]
  },
  {
   "cell_type": "code",
   "execution_count": 4,
   "metadata": {},
   "outputs": [],
   "source": [
    "def containsNum(string):\n",
    "    RE_D = re.compile('\\d')\n",
    "    return RE_D.search(string)\n",
    "def clean_text(text):\n",
    "    text = text.lower() # lowercase text\n",
    "    text = REPLACE_BY_SPACE_RE.sub(' ', text) # replace REPLACE_BY_SPACE_RE symbols by space in text\n",
    "    text = BAD_SYMBOLS_RE.sub(' ', text) # delete symbols which are in BAD_SYMBOLS_RE from text\n",
    "    text = ' '.join(word for word in text.split() if word not in STOPWORDS) # delete stopwors from text\n",
    "    text = ' '.join(word for word in text.split() if not containsNum(word)) #remove numbers\n",
    "    return text"
   ]
  },
  {
   "cell_type": "code",
   "execution_count": 5,
   "metadata": {},
   "outputs": [
    {
     "data": {
      "text/plain": [
       "'seventeen year old'"
      ]
     },
     "execution_count": 5,
     "metadata": {},
     "output_type": "execute_result"
    }
   ],
   "source": [
    "clean_text('seventeen-year-old')"
   ]
  },
  {
   "cell_type": "code",
   "execution_count": 6,
   "metadata": {},
   "outputs": [],
   "source": [
    "df['synopsis_clean'] = df['synopsis'].apply(clean_text)"
   ]
  },
  {
   "cell_type": "code",
   "execution_count": 7,
   "metadata": {},
   "outputs": [
    {
     "data": {
      "text/html": [
       "<div>\n",
       "<style scoped>\n",
       "    .dataframe tbody tr th:only-of-type {\n",
       "        vertical-align: middle;\n",
       "    }\n",
       "\n",
       "    .dataframe tbody tr th {\n",
       "        vertical-align: top;\n",
       "    }\n",
       "\n",
       "    .dataframe thead th {\n",
       "        text-align: right;\n",
       "    }\n",
       "</style>\n",
       "<table border=\"1\" class=\"dataframe\">\n",
       "  <thead>\n",
       "    <tr style=\"text-align: right;\">\n",
       "      <th></th>\n",
       "      <th>movie_title</th>\n",
       "      <th>synopsis</th>\n",
       "      <th>rating</th>\n",
       "      <th>synopsis_clean</th>\n",
       "    </tr>\n",
       "  </thead>\n",
       "  <tbody>\n",
       "    <tr>\n",
       "      <td>0</td>\n",
       "      <td>Pray for Rain</td>\n",
       "      <td>A young New York journalist returns to the idy...</td>\n",
       "      <td>PG13</td>\n",
       "      <td>young new york journalist returns idyllic cent...</td>\n",
       "    </tr>\n",
       "    <tr>\n",
       "      <td>1</td>\n",
       "      <td>Scooby-Doo 2: Monsters Unleashed</td>\n",
       "      <td>In Scooby-Doo 2: Monsters Unleashed, the teena...</td>\n",
       "      <td>PG</td>\n",
       "      <td>scooby doo monsters unleashed teenage detectiv...</td>\n",
       "    </tr>\n",
       "    <tr>\n",
       "      <td>2</td>\n",
       "      <td>Filth</td>\n",
       "      <td>Bruce Robertson (James McAvoy) is a Detective ...</td>\n",
       "      <td>R21</td>\n",
       "      <td>bruce robertson james mcavoy detective sergean...</td>\n",
       "    </tr>\n",
       "    <tr>\n",
       "      <td>3</td>\n",
       "      <td>EverAfter</td>\n",
       "      <td>The Queen of France summons the Grimm Brothers...</td>\n",
       "      <td>PG</td>\n",
       "      <td>queen france summons grimm brothers producing ...</td>\n",
       "    </tr>\n",
       "    <tr>\n",
       "      <td>4</td>\n",
       "      <td>Before I Fall</td>\n",
       "      <td>Sam wakes up at 6:50 to a text from her boyfri...</td>\n",
       "      <td>PG13</td>\n",
       "      <td>sam wakes text boyfriend saying happy cupid da...</td>\n",
       "    </tr>\n",
       "  </tbody>\n",
       "</table>\n",
       "</div>"
      ],
      "text/plain": [
       "                        movie_title  \\\n",
       "0                     Pray for Rain   \n",
       "1  Scooby-Doo 2: Monsters Unleashed   \n",
       "2                             Filth   \n",
       "3                         EverAfter   \n",
       "4                     Before I Fall   \n",
       "\n",
       "                                            synopsis rating  \\\n",
       "0  A young New York journalist returns to the idy...   PG13   \n",
       "1  In Scooby-Doo 2: Monsters Unleashed, the teena...     PG   \n",
       "2  Bruce Robertson (James McAvoy) is a Detective ...    R21   \n",
       "3  The Queen of France summons the Grimm Brothers...     PG   \n",
       "4  Sam wakes up at 6:50 to a text from her boyfri...   PG13   \n",
       "\n",
       "                                      synopsis_clean  \n",
       "0  young new york journalist returns idyllic cent...  \n",
       "1  scooby doo monsters unleashed teenage detectiv...  \n",
       "2  bruce robertson james mcavoy detective sergean...  \n",
       "3  queen france summons grimm brothers producing ...  \n",
       "4  sam wakes text boyfriend saying happy cupid da...  "
      ]
     },
     "execution_count": 7,
     "metadata": {},
     "output_type": "execute_result"
    }
   ],
   "source": [
    "df.head()"
   ]
  },
  {
   "cell_type": "markdown",
   "metadata": {},
   "source": [
    "# Load pretrained glove vectors"
   ]
  },
  {
   "cell_type": "code",
   "execution_count": 8,
   "metadata": {},
   "outputs": [
    {
     "name": "stdout",
     "output_type": "stream",
     "text": [
      "[('queen', 0.5355600118637085)]\n",
      "Wall time: 2min 22s\n"
     ]
    }
   ],
   "source": [
    "%%time\n",
    "# load the Stanford GloVe model\n",
    "filename = 'glove.6B.300d.txt.word2vec'\n",
    "model = KeyedVectors.load_word2vec_format(filename, binary=False)\n",
    "# calculate: (king - man) + woman = ?\n",
    "result = model.most_similar(positive=['woman', 'king'], negative=['god'], topn=1)\n",
    "print(result)"
   ]
  },
  {
   "cell_type": "markdown",
   "metadata": {},
   "source": [
    "# Get Intensity"
   ]
  },
  {
   "cell_type": "code",
   "execution_count": 34,
   "metadata": {},
   "outputs": [],
   "source": [
    "class Intensity:\n",
    "    def __init__(self,topic,int_vect):\n",
    "        self.topic = topic\n",
    "        self.int_vect = int_vect\n",
    "    def get_intensity(self,word):\n",
    "        \"\"\"\n",
    "        projects word onto intensity vector to get intensity \n",
    "        multiply by similarity to topic to reduce weight of irrelevant words\n",
    "        \"\"\"\n",
    "        return model.similarity(w1=self.topic,w2=word)*np.dot(model[word],self.int_vect)/np.linalg.norm(self.int_vect)\n",
    "    def get_similarity(self,word):\n",
    "        return model.similarity(w1=self.topic,w2=word)\n",
    "    def get_factor(self,text,function='intensity'):\n",
    "#         print('f',function)\n",
    "        sum1 = 0\n",
    "        arr = text.split()\n",
    "        for word in arr:\n",
    "            try:\n",
    "                if function == 'intensity':\n",
    "                    value = self.get_intensity(word)\n",
    "                else:\n",
    "                    value = self.get_similarity(word)\n",
    "                if value<0:\n",
    "                    value= 0.01\n",
    "#                 elif value>1:\n",
    "#                     value = 1\n",
    "                sum1+=value\n",
    "            except:\n",
    "                pass\n",
    "        return sum1/len(arr)\n",
    "        \n",
    "        "
   ]
  },
  {
   "cell_type": "code",
   "execution_count": 35,
   "metadata": {},
   "outputs": [
    {
     "name": "stdout",
     "output_type": "stream",
     "text": [
      "0.1799409\n",
      "0.95540994\n",
      "1.2835717\n",
      "-0.0074890708\n",
      "0.114342056\n",
      "-0.029518781\n"
     ]
    }
   ],
   "source": [
    "sexual_vector = model['intercourse'] - model['chastity']\n",
    "Sexual_intensity = Intensity('sexual',sexual_vector)\n",
    "print(Sexual_intensity.get_intensity('nude'))\n",
    "print(Sexual_intensity.get_intensity('rape'))\n",
    "print(Sexual_intensity.get_intensity('sex'))\n",
    "print(Sexual_intensity.get_intensity('run'))\n",
    "print(Sexual_intensity.get_intensity('him'))\n",
    "print(Sexual_intensity.get_intensity('her'))"
   ]
  },
  {
   "cell_type": "code",
   "execution_count": 36,
   "metadata": {},
   "outputs": [
    {
     "name": "stdout",
     "output_type": "stream",
     "text": [
      "Wall time: 1min 22s\n"
     ]
    }
   ],
   "source": [
    "%%time \n",
    "df['sex_similarity'] = df['synopsis_clean'].apply(Sexual_intensity.get_factor,args=('similarity',))\n",
    "df['sex_factor'] = df['synopsis_clean'].apply(Sexual_intensity.get_factor)"
   ]
  },
  {
   "cell_type": "code",
   "execution_count": 37,
   "metadata": {},
   "outputs": [
    {
     "data": {
      "text/html": [
       "<div>\n",
       "<style scoped>\n",
       "    .dataframe tbody tr th:only-of-type {\n",
       "        vertical-align: middle;\n",
       "    }\n",
       "\n",
       "    .dataframe tbody tr th {\n",
       "        vertical-align: top;\n",
       "    }\n",
       "\n",
       "    .dataframe thead th {\n",
       "        text-align: right;\n",
       "    }\n",
       "</style>\n",
       "<table border=\"1\" class=\"dataframe\">\n",
       "  <thead>\n",
       "    <tr style=\"text-align: right;\">\n",
       "      <th></th>\n",
       "      <th>movie_title</th>\n",
       "      <th>synopsis</th>\n",
       "      <th>rating</th>\n",
       "      <th>synopsis_clean</th>\n",
       "      <th>sex_similarity</th>\n",
       "      <th>sex_factor</th>\n",
       "      <th>violence_factor</th>\n",
       "      <th>violence_similarity</th>\n",
       "    </tr>\n",
       "  </thead>\n",
       "  <tbody>\n",
       "    <tr>\n",
       "      <td>0</td>\n",
       "      <td>Pray for Rain</td>\n",
       "      <td>A young New York journalist returns to the idy...</td>\n",
       "      <td>PG13</td>\n",
       "      <td>young new york journalist returns idyllic cent...</td>\n",
       "      <td>0.165630</td>\n",
       "      <td>0.058677</td>\n",
       "      <td>0.052804</td>\n",
       "      <td>0.258055</td>\n",
       "    </tr>\n",
       "    <tr>\n",
       "      <td>1</td>\n",
       "      <td>Scooby-Doo 2: Monsters Unleashed</td>\n",
       "      <td>In Scooby-Doo 2: Monsters Unleashed, the teena...</td>\n",
       "      <td>PG</td>\n",
       "      <td>scooby doo monsters unleashed teenage detectiv...</td>\n",
       "      <td>0.098532</td>\n",
       "      <td>0.032562</td>\n",
       "      <td>0.052309</td>\n",
       "      <td>0.126072</td>\n",
       "    </tr>\n",
       "    <tr>\n",
       "      <td>2</td>\n",
       "      <td>Filth</td>\n",
       "      <td>Bruce Robertson (James McAvoy) is a Detective ...</td>\n",
       "      <td>R21</td>\n",
       "      <td>bruce robertson james mcavoy detective sergean...</td>\n",
       "      <td>0.154929</td>\n",
       "      <td>0.075726</td>\n",
       "      <td>0.043212</td>\n",
       "      <td>0.177944</td>\n",
       "    </tr>\n",
       "    <tr>\n",
       "      <td>3</td>\n",
       "      <td>EverAfter</td>\n",
       "      <td>The Queen of France summons the Grimm Brothers...</td>\n",
       "      <td>PG</td>\n",
       "      <td>queen france summons grimm brothers producing ...</td>\n",
       "      <td>0.100164</td>\n",
       "      <td>0.035658</td>\n",
       "      <td>0.022734</td>\n",
       "      <td>0.120402</td>\n",
       "    </tr>\n",
       "    <tr>\n",
       "      <td>4</td>\n",
       "      <td>Before I Fall</td>\n",
       "      <td>Sam wakes up at 6:50 to a text from her boyfri...</td>\n",
       "      <td>PG13</td>\n",
       "      <td>sam wakes text boyfriend saying happy cupid da...</td>\n",
       "      <td>0.137812</td>\n",
       "      <td>0.056279</td>\n",
       "      <td>0.029503</td>\n",
       "      <td>0.168910</td>\n",
       "    </tr>\n",
       "  </tbody>\n",
       "</table>\n",
       "</div>"
      ],
      "text/plain": [
       "                        movie_title  \\\n",
       "0                     Pray for Rain   \n",
       "1  Scooby-Doo 2: Monsters Unleashed   \n",
       "2                             Filth   \n",
       "3                         EverAfter   \n",
       "4                     Before I Fall   \n",
       "\n",
       "                                            synopsis rating  \\\n",
       "0  A young New York journalist returns to the idy...   PG13   \n",
       "1  In Scooby-Doo 2: Monsters Unleashed, the teena...     PG   \n",
       "2  Bruce Robertson (James McAvoy) is a Detective ...    R21   \n",
       "3  The Queen of France summons the Grimm Brothers...     PG   \n",
       "4  Sam wakes up at 6:50 to a text from her boyfri...   PG13   \n",
       "\n",
       "                                      synopsis_clean  sex_similarity  \\\n",
       "0  young new york journalist returns idyllic cent...        0.165630   \n",
       "1  scooby doo monsters unleashed teenage detectiv...        0.098532   \n",
       "2  bruce robertson james mcavoy detective sergean...        0.154929   \n",
       "3  queen france summons grimm brothers producing ...        0.100164   \n",
       "4  sam wakes text boyfriend saying happy cupid da...        0.137812   \n",
       "\n",
       "   sex_factor  violence_factor  violence_similarity  \n",
       "0    0.058677         0.052804             0.258055  \n",
       "1    0.032562         0.052309             0.126072  \n",
       "2    0.075726         0.043212             0.177944  \n",
       "3    0.035658         0.022734             0.120402  \n",
       "4    0.056279         0.029503             0.168910  "
      ]
     },
     "execution_count": 37,
     "metadata": {},
     "output_type": "execute_result"
    }
   ],
   "source": [
    "df.head()"
   ]
  },
  {
   "cell_type": "markdown",
   "metadata": {},
   "source": [
    "# Violence"
   ]
  },
  {
   "cell_type": "code",
   "execution_count": 38,
   "metadata": {},
   "outputs": [],
   "source": [
    "violence_vect = model['kill'] - model['peace']\n",
    "Violence_intensity = Intensity(\"violence\",violence_vect)"
   ]
  },
  {
   "cell_type": "code",
   "execution_count": 39,
   "metadata": {},
   "outputs": [
    {
     "name": "stdout",
     "output_type": "stream",
     "text": [
      "0.5524363\n",
      "0.5967657\n",
      "0.06181001\n",
      "0.061893966\n",
      "0.34266934\n",
      "1.0035129\n"
     ]
    }
   ],
   "source": [
    "print(Violence_intensity.get_intensity('rape'))\n",
    "print(Violence_intensity.get_intensity('murder'))\n",
    "print(Violence_intensity.get_intensity('fight'))\n",
    "print(Violence_intensity.get_intensity('punch'))\n",
    "print(Violence_intensity.get_intensity('slaughter'))\n",
    "print(Violence_intensity.get_intensity('kill'))"
   ]
  },
  {
   "cell_type": "code",
   "execution_count": 40,
   "metadata": {},
   "outputs": [
    {
     "name": "stdout",
     "output_type": "stream",
     "text": [
      "Wall time: 1min 19s\n"
     ]
    }
   ],
   "source": [
    "%%time \n",
    "df['violence_factor'] = df['synopsis_clean'].apply(Violence_intensity.get_factor)\n",
    "df['violence_similarity'] = df['synopsis_clean'].apply(Violence_intensity.get_factor,args=('similarity',))"
   ]
  },
  {
   "cell_type": "code",
   "execution_count": 41,
   "metadata": {},
   "outputs": [
    {
     "data": {
      "text/html": [
       "<div>\n",
       "<style scoped>\n",
       "    .dataframe tbody tr th:only-of-type {\n",
       "        vertical-align: middle;\n",
       "    }\n",
       "\n",
       "    .dataframe tbody tr th {\n",
       "        vertical-align: top;\n",
       "    }\n",
       "\n",
       "    .dataframe thead th {\n",
       "        text-align: right;\n",
       "    }\n",
       "</style>\n",
       "<table border=\"1\" class=\"dataframe\">\n",
       "  <thead>\n",
       "    <tr style=\"text-align: right;\">\n",
       "      <th></th>\n",
       "      <th>sex_similarity</th>\n",
       "      <th>sex_factor</th>\n",
       "      <th>violence_factor</th>\n",
       "      <th>violence_similarity</th>\n",
       "    </tr>\n",
       "    <tr>\n",
       "      <th>rating</th>\n",
       "      <th></th>\n",
       "      <th></th>\n",
       "      <th></th>\n",
       "      <th></th>\n",
       "    </tr>\n",
       "  </thead>\n",
       "  <tbody>\n",
       "    <tr>\n",
       "      <td>M18</td>\n",
       "      <td>0.121029</td>\n",
       "      <td>0.052414</td>\n",
       "      <td>0.033414</td>\n",
       "      <td>0.149016</td>\n",
       "    </tr>\n",
       "    <tr>\n",
       "      <td>NC16</td>\n",
       "      <td>0.118250</td>\n",
       "      <td>0.049171</td>\n",
       "      <td>0.032539</td>\n",
       "      <td>0.149782</td>\n",
       "    </tr>\n",
       "    <tr>\n",
       "      <td>PG</td>\n",
       "      <td>0.111607</td>\n",
       "      <td>0.045445</td>\n",
       "      <td>0.027671</td>\n",
       "      <td>0.141974</td>\n",
       "    </tr>\n",
       "    <tr>\n",
       "      <td>PG13</td>\n",
       "      <td>0.116158</td>\n",
       "      <td>0.048183</td>\n",
       "      <td>0.029594</td>\n",
       "      <td>0.147636</td>\n",
       "    </tr>\n",
       "    <tr>\n",
       "      <td>R21</td>\n",
       "      <td>0.125734</td>\n",
       "      <td>0.057915</td>\n",
       "      <td>0.033660</td>\n",
       "      <td>0.150382</td>\n",
       "    </tr>\n",
       "  </tbody>\n",
       "</table>\n",
       "</div>"
      ],
      "text/plain": [
       "        sex_similarity  sex_factor  violence_factor  violence_similarity\n",
       "rating                                                                  \n",
       "M18           0.121029    0.052414         0.033414             0.149016\n",
       "NC16          0.118250    0.049171         0.032539             0.149782\n",
       "PG            0.111607    0.045445         0.027671             0.141974\n",
       "PG13          0.116158    0.048183         0.029594             0.147636\n",
       "R21           0.125734    0.057915         0.033660             0.150382"
      ]
     },
     "execution_count": 41,
     "metadata": {},
     "output_type": "execute_result"
    }
   ],
   "source": [
    "avg_factor = df.groupby(['rating']).mean()\n",
    "avg_factor"
   ]
  },
  {
   "cell_type": "code",
   "execution_count": 42,
   "metadata": {},
   "outputs": [
    {
     "name": "stdout",
     "output_type": "stream",
     "text": [
      "Ratio of differences\n",
      "sex_factor 0.2744050527326036\n",
      "sex_similarity 0.12658188460913586\n",
      "violence_factor 0.2164459404189893\n",
      "violence_similarity 0.059216983050526174\n"
     ]
    }
   ],
   "source": [
    "def print_factor_diff(name):\n",
    "    print(name,(max(avg_factor[name]) - min(avg_factor[name]))/min(avg_factor[name]))\n",
    "print(\"Ratio of differences\")\n",
    "print_factor_diff('sex_factor')\n",
    "print_factor_diff('sex_similarity')\n",
    "print_factor_diff('violence_factor')\n",
    "print_factor_diff('violence_similarity')"
   ]
  },
  {
   "cell_type": "code",
   "execution_count": 43,
   "metadata": {},
   "outputs": [],
   "source": [
    "from sklearn.model_selection import train_test_split\n",
    "from sklearn.metrics import classification_report,confusion_matrix\n",
    "x_train, x_test, y_train, y_test = train_test_split(np.array(df[['sex_factor','violence_factor','sex_similarity','violence_similarity']]), df['rating'], test_size=0.1, random_state=8)"
   ]
  },
  {
   "cell_type": "code",
   "execution_count": 44,
   "metadata": {},
   "outputs": [
    {
     "name": "stdout",
     "output_type": "stream",
     "text": [
      "              precision    recall  f1-score   support\n",
      "\n",
      "         M18       0.20      0.05      0.08        39\n",
      "        NC16       0.32      0.22      0.26        41\n",
      "          PG       0.24      0.59      0.34        37\n",
      "        PG13       0.25      0.07      0.11        42\n",
      "         R21       0.33      0.47      0.39        45\n",
      "\n",
      "    accuracy                           0.28       204\n",
      "   macro avg       0.27      0.28      0.24       204\n",
      "weighted avg       0.27      0.28      0.24       204\n",
      "\n"
     ]
    },
    {
     "name": "stderr",
     "output_type": "stream",
     "text": [
      "C:\\Users\\garyo\\Anaconda3\\lib\\site-packages\\sklearn\\linear_model\\logistic.py:432: FutureWarning: Default solver will be changed to 'lbfgs' in 0.22. Specify a solver to silence this warning.\n",
      "  FutureWarning)\n",
      "C:\\Users\\garyo\\Anaconda3\\lib\\site-packages\\sklearn\\linear_model\\logistic.py:469: FutureWarning: Default multi_class will be changed to 'auto' in 0.22. Specify the multi_class option to silence this warning.\n",
      "  \"this warning.\", FutureWarning)\n"
     ]
    }
   ],
   "source": [
    "from sklearn.linear_model import LogisticRegression\n",
    "from sklearn.svm import LinearSVC\n",
    "from sklearn.ensemble import RandomForestClassifier\n",
    "clf = LogisticRegression(C=10)\n",
    "clf.fit(x_train,y_train)\n",
    "prediction = clf.predict(x_test)\n",
    "print(classification_report(y_test,prediction))"
   ]
  },
  {
   "cell_type": "code",
   "execution_count": 45,
   "metadata": {},
   "outputs": [],
   "source": [
    "def ordinalise(rating):\n",
    "    ordinal_dict = {'PG':0,'PG13':1,'NC16':2,'M18':3,'R21':4}\n",
    "    return ordinal_dict[rating]\n",
    "df['ordinal_rating'] =  df['rating'].apply(lambda x:ordinalise(x))"
   ]
  },
  {
   "cell_type": "code",
   "execution_count": 46,
   "metadata": {},
   "outputs": [
    {
     "data": {
      "text/html": [
       "<div>\n",
       "<style scoped>\n",
       "    .dataframe tbody tr th:only-of-type {\n",
       "        vertical-align: middle;\n",
       "    }\n",
       "\n",
       "    .dataframe tbody tr th {\n",
       "        vertical-align: top;\n",
       "    }\n",
       "\n",
       "    .dataframe thead th {\n",
       "        text-align: right;\n",
       "    }\n",
       "</style>\n",
       "<table border=\"1\" class=\"dataframe\">\n",
       "  <thead>\n",
       "    <tr style=\"text-align: right;\">\n",
       "      <th></th>\n",
       "      <th>sex_similarity</th>\n",
       "      <th>sex_factor</th>\n",
       "      <th>violence_factor</th>\n",
       "      <th>violence_similarity</th>\n",
       "      <th>ordinal_rating</th>\n",
       "    </tr>\n",
       "    <tr>\n",
       "      <th>rating</th>\n",
       "      <th></th>\n",
       "      <th></th>\n",
       "      <th></th>\n",
       "      <th></th>\n",
       "      <th></th>\n",
       "    </tr>\n",
       "  </thead>\n",
       "  <tbody>\n",
       "    <tr>\n",
       "      <td>M18</td>\n",
       "      <td>0.121029</td>\n",
       "      <td>0.052414</td>\n",
       "      <td>0.033414</td>\n",
       "      <td>0.149016</td>\n",
       "      <td>3</td>\n",
       "    </tr>\n",
       "    <tr>\n",
       "      <td>NC16</td>\n",
       "      <td>0.118250</td>\n",
       "      <td>0.049171</td>\n",
       "      <td>0.032539</td>\n",
       "      <td>0.149782</td>\n",
       "      <td>2</td>\n",
       "    </tr>\n",
       "    <tr>\n",
       "      <td>PG</td>\n",
       "      <td>0.111607</td>\n",
       "      <td>0.045445</td>\n",
       "      <td>0.027671</td>\n",
       "      <td>0.141974</td>\n",
       "      <td>0</td>\n",
       "    </tr>\n",
       "    <tr>\n",
       "      <td>PG13</td>\n",
       "      <td>0.116158</td>\n",
       "      <td>0.048183</td>\n",
       "      <td>0.029594</td>\n",
       "      <td>0.147636</td>\n",
       "      <td>1</td>\n",
       "    </tr>\n",
       "    <tr>\n",
       "      <td>R21</td>\n",
       "      <td>0.125734</td>\n",
       "      <td>0.057915</td>\n",
       "      <td>0.033660</td>\n",
       "      <td>0.150382</td>\n",
       "      <td>4</td>\n",
       "    </tr>\n",
       "  </tbody>\n",
       "</table>\n",
       "</div>"
      ],
      "text/plain": [
       "        sex_similarity  sex_factor  violence_factor  violence_similarity  \\\n",
       "rating                                                                     \n",
       "M18           0.121029    0.052414         0.033414             0.149016   \n",
       "NC16          0.118250    0.049171         0.032539             0.149782   \n",
       "PG            0.111607    0.045445         0.027671             0.141974   \n",
       "PG13          0.116158    0.048183         0.029594             0.147636   \n",
       "R21           0.125734    0.057915         0.033660             0.150382   \n",
       "\n",
       "        ordinal_rating  \n",
       "rating                  \n",
       "M18                  3  \n",
       "NC16                 2  \n",
       "PG                   0  \n",
       "PG13                 1  \n",
       "R21                  4  "
      ]
     },
     "execution_count": 46,
     "metadata": {},
     "output_type": "execute_result"
    }
   ],
   "source": [
    "df.groupby('rating').mean()"
   ]
  },
  {
   "cell_type": "code",
   "execution_count": 47,
   "metadata": {},
   "outputs": [],
   "source": [
    "def transform(text_arr,intensity,function='intensity'):\n",
    "    sum1 = np.zeros(model['the'].shape,dtype='float64') #get shape of a random word then set it to zero\n",
    "    for text in text_arr:\n",
    "        try:\n",
    "            if function == 'intensity':\n",
    "                int_value = intensity.get_intensity(text)\n",
    "            else:\n",
    "                int_value = intensity.get_similarity(text)\n",
    "#             if int_value<0:\n",
    "#                 int_value = 0.001 # small weight if negative relation\n",
    "            sum1 += model[text]*np.exp(int_value)\n",
    "        except:\n",
    "            pass\n",
    "    return sum1/len(text_arr)"
   ]
  },
  {
   "cell_type": "code",
   "execution_count": 48,
   "metadata": {},
   "outputs": [],
   "source": [
    "def vectorise(text_matrix,intensity,function='intensity'):\n",
    "    ls = []\n",
    "    for text_arr in text_matrix:\n",
    "        vector = transform(text_arr,intensity,function)\n",
    "        ls.append(vector)\n",
    "    return np.array(ls)"
   ]
  },
  {
   "cell_type": "code",
   "execution_count": 49,
   "metadata": {},
   "outputs": [],
   "source": [
    "X_syn = df['synopsis_clean'].apply(lambda text: text.split(' ')).values"
   ]
  },
  {
   "cell_type": "code",
   "execution_count": 50,
   "metadata": {},
   "outputs": [
    {
     "name": "stdout",
     "output_type": "stream",
     "text": [
      "Wall time: 2min 48s\n"
     ]
    }
   ],
   "source": [
    "%%time\n",
    "X_sex_intensity = vectorise(X_syn,Sexual_intensity)\n",
    "X_sex_similarity = vectorise(X_syn,Sexual_intensity,'similarity')\n",
    "X_violence_intensity = vectorise(X_syn,Violence_intensity)\n",
    "X_violence_similarity = vectorise(X_syn,Violence_intensity,'similarity')"
   ]
  },
  {
   "cell_type": "code",
   "execution_count": 110,
   "metadata": {},
   "outputs": [],
   "source": [
    "X = np.hstack([X_violence_intensity,X_sex_intensity])\n",
    "y = df['ordinal_rating']"
   ]
  },
  {
   "cell_type": "code",
   "execution_count": 111,
   "metadata": {},
   "outputs": [],
   "source": [
    "x_train, x_test, y_train, y_test = train_test_split(X, y, test_size=0.1, random_state=None)"
   ]
  },
  {
   "cell_type": "code",
   "execution_count": 112,
   "metadata": {},
   "outputs": [],
   "source": [
    "def lax_evaluate(a,b):\n",
    "    return np.average(np.abs(b-a)<2)"
   ]
  },
  {
   "cell_type": "code",
   "execution_count": 113,
   "metadata": {},
   "outputs": [
    {
     "name": "stderr",
     "output_type": "stream",
     "text": [
      "C:\\Users\\garyo\\Anaconda3\\lib\\site-packages\\sklearn\\linear_model\\logistic.py:432: FutureWarning: Default solver will be changed to 'lbfgs' in 0.22. Specify a solver to silence this warning.\n",
      "  FutureWarning)\n",
      "C:\\Users\\garyo\\Anaconda3\\lib\\site-packages\\sklearn\\linear_model\\logistic.py:469: FutureWarning: Default multi_class will be changed to 'auto' in 0.22. Specify the multi_class option to silence this warning.\n",
      "  \"this warning.\", FutureWarning)\n"
     ]
    },
    {
     "name": "stdout",
     "output_type": "stream",
     "text": [
      "              precision    recall  f1-score   support\n",
      "\n",
      "           0       0.53      0.58      0.55        50\n",
      "           1       0.36      0.36      0.36        36\n",
      "           2       0.18      0.13      0.15        39\n",
      "           3       0.32      0.33      0.32        39\n",
      "           4       0.50      0.55      0.52        40\n",
      "\n",
      "    accuracy                           0.40       204\n",
      "   macro avg       0.38      0.39      0.38       204\n",
      "weighted avg       0.39      0.40      0.39       204\n",
      "\n"
     ]
    },
    {
     "data": {
      "text/plain": [
       "0.7009803921568627"
      ]
     },
     "execution_count": 113,
     "metadata": {},
     "output_type": "execute_result"
    }
   ],
   "source": [
    "lclf = LogisticRegression(C=1)\n",
    "lclf.fit(x_train,y_train)\n",
    "prediction = lclf.predict(x_test)\n",
    "print(classification_report(y_test,prediction))\n",
    "lax_evaluate(y_test,prediction)"
   ]
  },
  {
   "cell_type": "code",
   "execution_count": 114,
   "metadata": {},
   "outputs": [
    {
     "name": "stdout",
     "output_type": "stream",
     "text": [
      "              precision    recall  f1-score   support\n",
      "\n",
      "           0       0.48      0.64      0.55        50\n",
      "           1       0.29      0.22      0.25        36\n",
      "           2       0.32      0.18      0.23        39\n",
      "           3       0.38      0.31      0.34        39\n",
      "           4       0.47      0.65      0.55        40\n",
      "\n",
      "    accuracy                           0.42       204\n",
      "   macro avg       0.39      0.40      0.38       204\n",
      "weighted avg       0.39      0.42      0.39       204\n",
      "\n",
      "0.6666666666666666\n"
     ]
    }
   ],
   "source": [
    "from sklearn.neural_network import MLPClassifier\n",
    "clf = MLPClassifier(hidden_layer_sizes=(10,),learning_rate='adaptive',alpha=0.0001,early_stopping=True)\n",
    "clf.fit(x_train,y_train)\n",
    "prediction = clf.predict(x_test)\n",
    "print(classification_report(y_test,prediction))\n",
    "print(lax_evaluate(y_test,prediction))"
   ]
  },
  {
   "cell_type": "code",
   "execution_count": 115,
   "metadata": {},
   "outputs": [
    {
     "data": {
      "text/plain": [
       "0.6666666666666666"
      ]
     },
     "execution_count": 115,
     "metadata": {},
     "output_type": "execute_result"
    }
   ],
   "source": [
    "lax_evaluate(y_test,prediction)"
   ]
  },
  {
   "cell_type": "code",
   "execution_count": 116,
   "metadata": {},
   "outputs": [
    {
     "data": {
      "text/plain": [
       "-2.116426829268293"
      ]
     },
     "execution_count": 116,
     "metadata": {},
     "output_type": "execute_result"
    }
   ],
   "source": [
    "from sklearn.model_selection import cross_val_score\n",
    "np.mean(cross_val_score(clf,X,y,cv=10,scoring='neg_mean_squared_error'))"
   ]
  },
  {
   "cell_type": "code",
   "execution_count": 117,
   "metadata": {},
   "outputs": [
    {
     "name": "stderr",
     "output_type": "stream",
     "text": [
      "C:\\Users\\garyo\\Anaconda3\\lib\\site-packages\\sklearn\\linear_model\\logistic.py:432: FutureWarning: Default solver will be changed to 'lbfgs' in 0.22. Specify a solver to silence this warning.\n",
      "  FutureWarning)\n",
      "C:\\Users\\garyo\\Anaconda3\\lib\\site-packages\\sklearn\\linear_model\\logistic.py:469: FutureWarning: Default multi_class will be changed to 'auto' in 0.22. Specify the multi_class option to silence this warning.\n",
      "  \"this warning.\", FutureWarning)\n",
      "C:\\Users\\garyo\\Anaconda3\\lib\\site-packages\\sklearn\\linear_model\\logistic.py:432: FutureWarning: Default solver will be changed to 'lbfgs' in 0.22. Specify a solver to silence this warning.\n",
      "  FutureWarning)\n",
      "C:\\Users\\garyo\\Anaconda3\\lib\\site-packages\\sklearn\\linear_model\\logistic.py:469: FutureWarning: Default multi_class will be changed to 'auto' in 0.22. Specify the multi_class option to silence this warning.\n",
      "  \"this warning.\", FutureWarning)\n",
      "C:\\Users\\garyo\\Anaconda3\\lib\\site-packages\\sklearn\\linear_model\\logistic.py:432: FutureWarning: Default solver will be changed to 'lbfgs' in 0.22. Specify a solver to silence this warning.\n",
      "  FutureWarning)\n",
      "C:\\Users\\garyo\\Anaconda3\\lib\\site-packages\\sklearn\\linear_model\\logistic.py:469: FutureWarning: Default multi_class will be changed to 'auto' in 0.22. Specify the multi_class option to silence this warning.\n",
      "  \"this warning.\", FutureWarning)\n",
      "C:\\Users\\garyo\\Anaconda3\\lib\\site-packages\\sklearn\\linear_model\\logistic.py:432: FutureWarning: Default solver will be changed to 'lbfgs' in 0.22. Specify a solver to silence this warning.\n",
      "  FutureWarning)\n",
      "C:\\Users\\garyo\\Anaconda3\\lib\\site-packages\\sklearn\\linear_model\\logistic.py:469: FutureWarning: Default multi_class will be changed to 'auto' in 0.22. Specify the multi_class option to silence this warning.\n",
      "  \"this warning.\", FutureWarning)\n",
      "C:\\Users\\garyo\\Anaconda3\\lib\\site-packages\\sklearn\\linear_model\\logistic.py:432: FutureWarning: Default solver will be changed to 'lbfgs' in 0.22. Specify a solver to silence this warning.\n",
      "  FutureWarning)\n",
      "C:\\Users\\garyo\\Anaconda3\\lib\\site-packages\\sklearn\\linear_model\\logistic.py:469: FutureWarning: Default multi_class will be changed to 'auto' in 0.22. Specify the multi_class option to silence this warning.\n",
      "  \"this warning.\", FutureWarning)\n",
      "C:\\Users\\garyo\\Anaconda3\\lib\\site-packages\\sklearn\\linear_model\\logistic.py:432: FutureWarning: Default solver will be changed to 'lbfgs' in 0.22. Specify a solver to silence this warning.\n",
      "  FutureWarning)\n",
      "C:\\Users\\garyo\\Anaconda3\\lib\\site-packages\\sklearn\\linear_model\\logistic.py:469: FutureWarning: Default multi_class will be changed to 'auto' in 0.22. Specify the multi_class option to silence this warning.\n",
      "  \"this warning.\", FutureWarning)\n",
      "C:\\Users\\garyo\\Anaconda3\\lib\\site-packages\\sklearn\\linear_model\\logistic.py:432: FutureWarning: Default solver will be changed to 'lbfgs' in 0.22. Specify a solver to silence this warning.\n",
      "  FutureWarning)\n",
      "C:\\Users\\garyo\\Anaconda3\\lib\\site-packages\\sklearn\\linear_model\\logistic.py:469: FutureWarning: Default multi_class will be changed to 'auto' in 0.22. Specify the multi_class option to silence this warning.\n",
      "  \"this warning.\", FutureWarning)\n",
      "C:\\Users\\garyo\\Anaconda3\\lib\\site-packages\\sklearn\\linear_model\\logistic.py:432: FutureWarning: Default solver will be changed to 'lbfgs' in 0.22. Specify a solver to silence this warning.\n",
      "  FutureWarning)\n",
      "C:\\Users\\garyo\\Anaconda3\\lib\\site-packages\\sklearn\\linear_model\\logistic.py:469: FutureWarning: Default multi_class will be changed to 'auto' in 0.22. Specify the multi_class option to silence this warning.\n",
      "  \"this warning.\", FutureWarning)\n",
      "C:\\Users\\garyo\\Anaconda3\\lib\\site-packages\\sklearn\\linear_model\\logistic.py:432: FutureWarning: Default solver will be changed to 'lbfgs' in 0.22. Specify a solver to silence this warning.\n",
      "  FutureWarning)\n",
      "C:\\Users\\garyo\\Anaconda3\\lib\\site-packages\\sklearn\\linear_model\\logistic.py:469: FutureWarning: Default multi_class will be changed to 'auto' in 0.22. Specify the multi_class option to silence this warning.\n",
      "  \"this warning.\", FutureWarning)\n",
      "C:\\Users\\garyo\\Anaconda3\\lib\\site-packages\\sklearn\\linear_model\\logistic.py:432: FutureWarning: Default solver will be changed to 'lbfgs' in 0.22. Specify a solver to silence this warning.\n",
      "  FutureWarning)\n",
      "C:\\Users\\garyo\\Anaconda3\\lib\\site-packages\\sklearn\\linear_model\\logistic.py:469: FutureWarning: Default multi_class will be changed to 'auto' in 0.22. Specify the multi_class option to silence this warning.\n",
      "  \"this warning.\", FutureWarning)\n"
     ]
    },
    {
     "data": {
      "text/plain": [
       "-2.2623170731707316"
      ]
     },
     "execution_count": 117,
     "metadata": {},
     "output_type": "execute_result"
    }
   ],
   "source": [
    "from sklearn.model_selection import cross_val_score\n",
    "np.mean(cross_val_score(lclf,X,y,cv=10,scoring='neg_mean_squared_error'))"
   ]
  },
  {
   "cell_type": "code",
   "execution_count": 118,
   "metadata": {},
   "outputs": [],
   "source": [
    "from sklearn.base import BaseEstimator\n",
    "import numpy as np\n",
    "class OrdClass(BaseEstimator):\n",
    "  \"\"\"\n",
    "  Helper class that solves ordinal classification (classes that have an order to them eg cold,warm,hot)\n",
    "  \"\"\"\n",
    "  def __init__(self,classifier=None,clf_args=None):\n",
    "    \"\"\"\n",
    "    y needs to be a number that start from 0 and increments by 1\n",
    "    classifier object needs to be able to return a probability\n",
    "    \"\"\"\n",
    "    self.classifier = classifier\n",
    "    self.clfs = []\n",
    "    self.clf_args = clf_args\n",
    "    self.final_prob = None\n",
    "  \n",
    "  def fit(self,X,y,**fit):\n",
    "    self.X = X\n",
    "    self.y = y\n",
    "    import copy\n",
    "    no_of_classifiers = np.max(self.y) #since y starts from 0\n",
    "    self.classes_ = list(range(no_of_classifiers+1))\n",
    "    if isinstance(self.clf_args,list):\n",
    "      #for pipelines\n",
    "      c = self.classifier(self.clf_args)\n",
    "    elif isinstance(self.clf_args,dict):\n",
    "      #for normal estimators\n",
    "       c = self.classifier(**self.clf_args)\n",
    "    for i in range(no_of_classifiers):\n",
    "      # make a copy of y because we want to change the values of y\n",
    "      copy_y = np.copy(self.y)\n",
    "      # make a binary classification here\n",
    "      copy_y[copy_y<=i] = 0\n",
    "      copy_y[copy_y>i] = 1\n",
    "      classifier = copy.deepcopy(c)\n",
    "      classifier.fit(self.X,copy_y,**fit)\n",
    "      self.clfs.append(classifier)\n",
    "    return self\n",
    "  def predict_proba(self,test):\n",
    "    prob_list = []\n",
    "    final_prob = []\n",
    "    length = len(self.clfs)\n",
    "    for clf in self.clfs:\n",
    "      prob_list.append(clf.predict_proba(test)[:,1])\n",
    "    for i in range(length+1):\n",
    "      if i == 0:\n",
    "        final_prob.append(1-prob_list[i])\n",
    "      elif i == length:\n",
    "        final_prob.append(prob_list[i-1])\n",
    "      else:\n",
    "        final_prob.append(prob_list[i-1]-prob_list[i])\n",
    "    answer = np.array(final_prob).transpose()\n",
    "    self.final_prob= answer\n",
    "    return answer\n",
    "  def predict(self,test):\n",
    "    self.predict_proba(test)\n",
    "    return np.argmax(self.final_prob,axis=1)\n",
    "  def score(self,X,y,sample_weight=None):\n",
    "    from sklearn.metrics import accuracy_score\n",
    "    return accuracy_score(y, self.predict(X), sample_weight=sample_weight)"
   ]
  },
  {
   "cell_type": "code",
   "execution_count": 119,
   "metadata": {},
   "outputs": [
    {
     "name": "stderr",
     "output_type": "stream",
     "text": [
      "C:\\Users\\garyo\\Anaconda3\\lib\\site-packages\\sklearn\\linear_model\\logistic.py:432: FutureWarning: Default solver will be changed to 'lbfgs' in 0.22. Specify a solver to silence this warning.\n",
      "  FutureWarning)\n",
      "C:\\Users\\garyo\\Anaconda3\\lib\\site-packages\\sklearn\\linear_model\\logistic.py:432: FutureWarning: Default solver will be changed to 'lbfgs' in 0.22. Specify a solver to silence this warning.\n",
      "  FutureWarning)\n",
      "C:\\Users\\garyo\\Anaconda3\\lib\\site-packages\\sklearn\\linear_model\\logistic.py:432: FutureWarning: Default solver will be changed to 'lbfgs' in 0.22. Specify a solver to silence this warning.\n",
      "  FutureWarning)\n",
      "C:\\Users\\garyo\\Anaconda3\\lib\\site-packages\\sklearn\\linear_model\\logistic.py:432: FutureWarning: Default solver will be changed to 'lbfgs' in 0.22. Specify a solver to silence this warning.\n",
      "  FutureWarning)\n"
     ]
    },
    {
     "name": "stdout",
     "output_type": "stream",
     "text": [
      "              precision    recall  f1-score   support\n",
      "\n",
      "           0       0.60      0.52      0.56        50\n",
      "           1       0.34      0.39      0.36        36\n",
      "           2       0.29      0.31      0.30        39\n",
      "           3       0.29      0.33      0.31        39\n",
      "           4       0.64      0.53      0.58        40\n",
      "\n",
      "    accuracy                           0.42       204\n",
      "   macro avg       0.43      0.41      0.42       204\n",
      "weighted avg       0.44      0.42      0.43       204\n",
      "\n",
      "0.7450980392156863\n"
     ]
    }
   ],
   "source": [
    "# args = {'hidden_layer_sizes':(10,),'learning_rate':'adaptive',\"alpha\":0.001}\n",
    "# o = OrdClass(MLPClassifier,args)\n",
    "args = {'C':1}\n",
    "o = OrdClass(LogisticRegression,args)\n",
    "o.fit(x_train,y_train)\n",
    "prediction = o.predict(x_test)\n",
    "print(classification_report(y_test,prediction))\n",
    "print(lax_evaluate(y_test,prediction))"
   ]
  },
  {
   "cell_type": "code",
   "execution_count": 120,
   "metadata": {},
   "outputs": [],
   "source": [
    "def show_confusion_matrix(conf_mat,classifier):\n",
    "  import seaborn as sn\n",
    "  import matplotlib.pyplot as plt\n",
    "  labels = classifier.classes_\n",
    "  df_cm = pd.DataFrame(conf_mat, index = [i for i in labels ],\n",
    "                  columns = [i for i in labels])\n",
    "  plt.figure(figsize = (10,7))\n",
    "  s= sn.heatmap(df_cm, annot=True,fmt='d',cmap='Blues')\n",
    "  s.set(xlabel=\"predicted\",ylabel=\"actual\")\n",
    "  bottom, top = s.get_ylim()\n",
    "  s.set_ylim(bottom + 0.5, top - 0.5)\n",
    "  plt.show()"
   ]
  },
  {
   "cell_type": "code",
   "execution_count": 121,
   "metadata": {},
   "outputs": [
    {
     "data": {
      "image/png": "[encoded data removed]",
      "text/plain": [
       "<Figure size 720x504 with 2 Axes>"
      ]
     },
     "metadata": {
      "needs_background": "light"
     },
     "output_type": "display_data"
    }
   ],
   "source": [
    "o.classes_ = [\"PG\",\"PG13\",\"NC16\",\"M18\",\"R21\"]\n",
    "cm = confusion_matrix(y_test,prediction)\n",
    "show_confusion_matrix(cm,o)"
   ]
  },
  {
   "cell_type": "code",
   "execution_count": 122,
   "metadata": {},
   "outputs": [
    {
     "name": "stderr",
     "output_type": "stream",
     "text": [
      "C:\\Users\\garyo\\Anaconda3\\lib\\site-packages\\sklearn\\linear_model\\logistic.py:432: FutureWarning: Default solver will be changed to 'lbfgs' in 0.22. Specify a solver to silence this warning.\n",
      "  FutureWarning)\n",
      "C:\\Users\\garyo\\Anaconda3\\lib\\site-packages\\sklearn\\linear_model\\logistic.py:432: FutureWarning: Default solver will be changed to 'lbfgs' in 0.22. Specify a solver to silence this warning.\n",
      "  FutureWarning)\n",
      "C:\\Users\\garyo\\Anaconda3\\lib\\site-packages\\sklearn\\linear_model\\logistic.py:432: FutureWarning: Default solver will be changed to 'lbfgs' in 0.22. Specify a solver to silence this warning.\n",
      "  FutureWarning)\n",
      "C:\\Users\\garyo\\Anaconda3\\lib\\site-packages\\sklearn\\linear_model\\logistic.py:432: FutureWarning: Default solver will be changed to 'lbfgs' in 0.22. Specify a solver to silence this warning.\n",
      "  FutureWarning)\n",
      "C:\\Users\\garyo\\Anaconda3\\lib\\site-packages\\sklearn\\linear_model\\logistic.py:432: FutureWarning: Default solver will be changed to 'lbfgs' in 0.22. Specify a solver to silence this warning.\n",
      "  FutureWarning)\n",
      "C:\\Users\\garyo\\Anaconda3\\lib\\site-packages\\sklearn\\linear_model\\logistic.py:432: FutureWarning: Default solver will be changed to 'lbfgs' in 0.22. Specify a solver to silence this warning.\n",
      "  FutureWarning)\n",
      "C:\\Users\\garyo\\Anaconda3\\lib\\site-packages\\sklearn\\linear_model\\logistic.py:432: FutureWarning: Default solver will be changed to 'lbfgs' in 0.22. Specify a solver to silence this warning.\n",
      "  FutureWarning)\n",
      "C:\\Users\\garyo\\Anaconda3\\lib\\site-packages\\sklearn\\linear_model\\logistic.py:432: FutureWarning: Default solver will be changed to 'lbfgs' in 0.22. Specify a solver to silence this warning.\n",
      "  FutureWarning)\n",
      "C:\\Users\\garyo\\Anaconda3\\lib\\site-packages\\sklearn\\linear_model\\logistic.py:432: FutureWarning: Default solver will be changed to 'lbfgs' in 0.22. Specify a solver to silence this warning.\n",
      "  FutureWarning)\n",
      "C:\\Users\\garyo\\Anaconda3\\lib\\site-packages\\sklearn\\linear_model\\logistic.py:432: FutureWarning: Default solver will be changed to 'lbfgs' in 0.22. Specify a solver to silence this warning.\n",
      "  FutureWarning)\n",
      "C:\\Users\\garyo\\Anaconda3\\lib\\site-packages\\sklearn\\linear_model\\logistic.py:432: FutureWarning: Default solver will be changed to 'lbfgs' in 0.22. Specify a solver to silence this warning.\n",
      "  FutureWarning)\n",
      "C:\\Users\\garyo\\Anaconda3\\lib\\site-packages\\sklearn\\linear_model\\logistic.py:432: FutureWarning: Default solver will be changed to 'lbfgs' in 0.22. Specify a solver to silence this warning.\n",
      "  FutureWarning)\n",
      "C:\\Users\\garyo\\Anaconda3\\lib\\site-packages\\sklearn\\linear_model\\logistic.py:432: FutureWarning: Default solver will be changed to 'lbfgs' in 0.22. Specify a solver to silence this warning.\n",
      "  FutureWarning)\n",
      "C:\\Users\\garyo\\Anaconda3\\lib\\site-packages\\sklearn\\linear_model\\logistic.py:432: FutureWarning: Default solver will be changed to 'lbfgs' in 0.22. Specify a solver to silence this warning.\n",
      "  FutureWarning)\n",
      "C:\\Users\\garyo\\Anaconda3\\lib\\site-packages\\sklearn\\linear_model\\logistic.py:432: FutureWarning: Default solver will be changed to 'lbfgs' in 0.22. Specify a solver to silence this warning.\n",
      "  FutureWarning)\n",
      "C:\\Users\\garyo\\Anaconda3\\lib\\site-packages\\sklearn\\linear_model\\logistic.py:432: FutureWarning: Default solver will be changed to 'lbfgs' in 0.22. Specify a solver to silence this warning.\n",
      "  FutureWarning)\n",
      "C:\\Users\\garyo\\Anaconda3\\lib\\site-packages\\sklearn\\linear_model\\logistic.py:432: FutureWarning: Default solver will be changed to 'lbfgs' in 0.22. Specify a solver to silence this warning.\n",
      "  FutureWarning)\n",
      "C:\\Users\\garyo\\Anaconda3\\lib\\site-packages\\sklearn\\linear_model\\logistic.py:432: FutureWarning: Default solver will be changed to 'lbfgs' in 0.22. Specify a solver to silence this warning.\n",
      "  FutureWarning)\n",
      "C:\\Users\\garyo\\Anaconda3\\lib\\site-packages\\sklearn\\linear_model\\logistic.py:432: FutureWarning: Default solver will be changed to 'lbfgs' in 0.22. Specify a solver to silence this warning.\n",
      "  FutureWarning)\n",
      "C:\\Users\\garyo\\Anaconda3\\lib\\site-packages\\sklearn\\linear_model\\logistic.py:432: FutureWarning: Default solver will be changed to 'lbfgs' in 0.22. Specify a solver to silence this warning.\n",
      "  FutureWarning)\n",
      "C:\\Users\\garyo\\Anaconda3\\lib\\site-packages\\sklearn\\linear_model\\logistic.py:432: FutureWarning: Default solver will be changed to 'lbfgs' in 0.22. Specify a solver to silence this warning.\n",
      "  FutureWarning)\n",
      "C:\\Users\\garyo\\Anaconda3\\lib\\site-packages\\sklearn\\linear_model\\logistic.py:432: FutureWarning: Default solver will be changed to 'lbfgs' in 0.22. Specify a solver to silence this warning.\n",
      "  FutureWarning)\n",
      "C:\\Users\\garyo\\Anaconda3\\lib\\site-packages\\sklearn\\linear_model\\logistic.py:432: FutureWarning: Default solver will be changed to 'lbfgs' in 0.22. Specify a solver to silence this warning.\n",
      "  FutureWarning)\n",
      "C:\\Users\\garyo\\Anaconda3\\lib\\site-packages\\sklearn\\linear_model\\logistic.py:432: FutureWarning: Default solver will be changed to 'lbfgs' in 0.22. Specify a solver to silence this warning.\n",
      "  FutureWarning)\n",
      "C:\\Users\\garyo\\Anaconda3\\lib\\site-packages\\sklearn\\linear_model\\logistic.py:432: FutureWarning: Default solver will be changed to 'lbfgs' in 0.22. Specify a solver to silence this warning.\n",
      "  FutureWarning)\n",
      "C:\\Users\\garyo\\Anaconda3\\lib\\site-packages\\sklearn\\linear_model\\logistic.py:432: FutureWarning: Default solver will be changed to 'lbfgs' in 0.22. Specify a solver to silence this warning.\n",
      "  FutureWarning)\n",
      "C:\\Users\\garyo\\Anaconda3\\lib\\site-packages\\sklearn\\linear_model\\logistic.py:432: FutureWarning: Default solver will be changed to 'lbfgs' in 0.22. Specify a solver to silence this warning.\n",
      "  FutureWarning)\n",
      "C:\\Users\\garyo\\Anaconda3\\lib\\site-packages\\sklearn\\linear_model\\logistic.py:432: FutureWarning: Default solver will be changed to 'lbfgs' in 0.22. Specify a solver to silence this warning.\n",
      "  FutureWarning)\n",
      "C:\\Users\\garyo\\Anaconda3\\lib\\site-packages\\sklearn\\linear_model\\logistic.py:432: FutureWarning: Default solver will be changed to 'lbfgs' in 0.22. Specify a solver to silence this warning.\n",
      "  FutureWarning)\n",
      "C:\\Users\\garyo\\Anaconda3\\lib\\site-packages\\sklearn\\linear_model\\logistic.py:432: FutureWarning: Default solver will be changed to 'lbfgs' in 0.22. Specify a solver to silence this warning.\n",
      "  FutureWarning)\n",
      "C:\\Users\\garyo\\Anaconda3\\lib\\site-packages\\sklearn\\linear_model\\logistic.py:432: FutureWarning: Default solver will be changed to 'lbfgs' in 0.22. Specify a solver to silence this warning.\n",
      "  FutureWarning)\n",
      "C:\\Users\\garyo\\Anaconda3\\lib\\site-packages\\sklearn\\linear_model\\logistic.py:432: FutureWarning: Default solver will be changed to 'lbfgs' in 0.22. Specify a solver to silence this warning.\n",
      "  FutureWarning)\n",
      "C:\\Users\\garyo\\Anaconda3\\lib\\site-packages\\sklearn\\linear_model\\logistic.py:432: FutureWarning: Default solver will be changed to 'lbfgs' in 0.22. Specify a solver to silence this warning.\n",
      "  FutureWarning)\n",
      "C:\\Users\\garyo\\Anaconda3\\lib\\site-packages\\sklearn\\linear_model\\logistic.py:432: FutureWarning: Default solver will be changed to 'lbfgs' in 0.22. Specify a solver to silence this warning.\n",
      "  FutureWarning)\n",
      "C:\\Users\\garyo\\Anaconda3\\lib\\site-packages\\sklearn\\linear_model\\logistic.py:432: FutureWarning: Default solver will be changed to 'lbfgs' in 0.22. Specify a solver to silence this warning.\n",
      "  FutureWarning)\n",
      "C:\\Users\\garyo\\Anaconda3\\lib\\site-packages\\sklearn\\linear_model\\logistic.py:432: FutureWarning: Default solver will be changed to 'lbfgs' in 0.22. Specify a solver to silence this warning.\n",
      "  FutureWarning)\n",
      "C:\\Users\\garyo\\Anaconda3\\lib\\site-packages\\sklearn\\linear_model\\logistic.py:432: FutureWarning: Default solver will be changed to 'lbfgs' in 0.22. Specify a solver to silence this warning.\n",
      "  FutureWarning)\n",
      "C:\\Users\\garyo\\Anaconda3\\lib\\site-packages\\sklearn\\linear_model\\logistic.py:432: FutureWarning: Default solver will be changed to 'lbfgs' in 0.22. Specify a solver to silence this warning.\n",
      "  FutureWarning)\n",
      "C:\\Users\\garyo\\Anaconda3\\lib\\site-packages\\sklearn\\linear_model\\logistic.py:432: FutureWarning: Default solver will be changed to 'lbfgs' in 0.22. Specify a solver to silence this warning.\n",
      "  FutureWarning)\n",
      "C:\\Users\\garyo\\Anaconda3\\lib\\site-packages\\sklearn\\linear_model\\logistic.py:432: FutureWarning: Default solver will be changed to 'lbfgs' in 0.22. Specify a solver to silence this warning.\n",
      "  FutureWarning)\n"
     ]
    },
    {
     "data": {
      "text/plain": [
       "-1.9254901960784316"
      ]
     },
     "execution_count": 122,
     "metadata": {},
     "output_type": "execute_result"
    }
   ],
   "source": [
    "np.mean(cross_val_score(o,X,y,cv=10,scoring='neg_mean_squared_error'))"
   ]
  },
  {
   "cell_type": "code",
   "execution_count": 123,
   "metadata": {},
   "outputs": [
    {
     "name": "stdout",
     "output_type": "stream",
     "text": [
      "              precision    recall  f1-score   support\n",
      "\n",
      "           0       0.64      0.36      0.46        50\n",
      "           1       0.23      0.31      0.26        36\n",
      "           2       0.24      0.28      0.26        39\n",
      "           3       0.23      0.28      0.25        39\n",
      "           4       0.47      0.40      0.43        40\n",
      "\n",
      "    accuracy                           0.33       204\n",
      "   macro avg       0.36      0.33      0.33       204\n",
      "weighted avg       0.38      0.33      0.34       204\n",
      "\n",
      "0.7401960784313726\n"
     ]
    }
   ],
   "source": [
    "#args = {'hidden_layer_sizes':(100,),'learning_rate':'adaptive',\"alpha\":0.0001,'early_stopping':True,'n_iter_no_change':20,'validation_fraction':0.2}\n",
    "args = {'hidden_layer_sizes':(100,),'max_iter':800}\n",
    "o1 = OrdClass(MLPClassifier,args)\n",
    "o1.fit(x_train,y_train)\n",
    "prediction = o1.predict(x_test)\n",
    "print(classification_report(y_test,prediction))\n",
    "print(lax_evaluate(y_test,prediction))"
   ]
  },
  {
   "cell_type": "code",
   "execution_count": 124,
   "metadata": {},
   "outputs": [
    {
     "data": {
      "image/png": "[encoded data removed]",
      "text/plain": [
       "<Figure size 720x504 with 2 Axes>"
      ]
     },
     "metadata": {
      "needs_background": "light"
     },
     "output_type": "display_data"
    }
   ],
   "source": [
    "o1.classes_ = [\"PG\",\"PG13\",\"NC16\",\"M18\",\"R21\"]\n",
    "cm = confusion_matrix(y_test,prediction)\n",
    "show_confusion_matrix(cm,o1)"
   ]
  },
  {
   "cell_type": "code",
   "execution_count": null,
   "metadata": {},
   "outputs": [
    {
     "name": "stderr",
     "output_type": "stream",
     "text": [
      "C:\\Users\\garyo\\Anaconda3\\lib\\site-packages\\sklearn\\neural_network\\multilayer_perceptron.py:568: UserWarning: Training interrupted by user.\n",
      "  warnings.warn(\"Training interrupted by user.\")\n",
      "C:\\Users\\garyo\\Anaconda3\\lib\\site-packages\\sklearn\\neural_network\\multilayer_perceptron.py:568: UserWarning: Training interrupted by user.\n",
      "  warnings.warn(\"Training interrupted by user.\")\n",
      "C:\\Users\\garyo\\Anaconda3\\lib\\site-packages\\sklearn\\neural_network\\multilayer_perceptron.py:568: UserWarning: Training interrupted by user.\n",
      "  warnings.warn(\"Training interrupted by user.\")\n",
      "C:\\Users\\garyo\\Anaconda3\\lib\\site-packages\\sklearn\\neural_network\\multilayer_perceptron.py:568: UserWarning: Training interrupted by user.\n",
      "  warnings.warn(\"Training interrupted by user.\")\n",
      "C:\\Users\\garyo\\Anaconda3\\lib\\site-packages\\sklearn\\neural_network\\multilayer_perceptron.py:568: UserWarning: Training interrupted by user.\n",
      "  warnings.warn(\"Training interrupted by user.\")\n",
      "C:\\Users\\garyo\\Anaconda3\\lib\\site-packages\\sklearn\\neural_network\\multilayer_perceptron.py:568: UserWarning: Training interrupted by user.\n",
      "  warnings.warn(\"Training interrupted by user.\")\n",
      "C:\\Users\\garyo\\Anaconda3\\lib\\site-packages\\sklearn\\neural_network\\multilayer_perceptron.py:568: UserWarning: Training interrupted by user.\n",
      "  warnings.warn(\"Training interrupted by user.\")\n",
      "C:\\Users\\garyo\\Anaconda3\\lib\\site-packages\\sklearn\\neural_network\\multilayer_perceptron.py:568: UserWarning: Training interrupted by user.\n",
      "  warnings.warn(\"Training interrupted by user.\")\n"
     ]
    }
   ],
   "source": [
    "np.mean(cross_val_score(o1,X,y,cv=10,scoring='neg_mean_squared_error',n_jobs=-1))"
   ]
  },
  {
   "cell_type": "code",
   "execution_count": null,
   "metadata": {},
   "outputs": [],
   "source": [
    "# for i in range(50,1200,50):\n",
    "#     args = {'hidden_layer_sizes':(i,),\"alpha\":0.0001,'max_iter':800}\n",
    "#     o1 = OrdClass(MLPClassifier,args)\n",
    "#     o1.fit(x_train,y_train)\n",
    "#     prediction = o1.predict(x_test)\n",
    "#     print(\"i is\",i)\n",
    "#     print(classification_report(y_test,prediction))\n",
    "#     print(lax_evaluate(y_test,prediction))"
   ]
  },
  {
   "cell_type": "code",
   "execution_count": null,
   "metadata": {},
   "outputs": [],
   "source": []
  }
 ],
 "metadata": {
  "kernelspec": {
   "display_name": "Python 3",
   "language": "python",
   "name": "python3"
  },
  "language_info": {
   "codemirror_mode": {
    "name": "ipython",
    "version": 3
   },
   "file_extension": ".py",
   "mimetype": "text/x-python",
   "name": "python",
   "nbconvert_exporter": "python",
   "pygments_lexer": "ipython3",
   "version": "3.7.4"
  },
  "varInspector": {
   "cols": {
    "lenName": 16,
    "lenType": 16,
    "lenVar": 40
   },
   "kernels_config": {
    "python": {
     "delete_cmd_postfix": "",
     "delete_cmd_prefix": "del ",
     "library": "var_list.py",
     "varRefreshCmd": "print(var_dic_list())"
    },
    "r": {
     "delete_cmd_postfix": ") ",
     "delete_cmd_prefix": "rm(",
     "library": "var_list.r",
     "varRefreshCmd": "cat(var_dic_list()) "
    }
   },
   "types_to_exclude": [
    "module",
    "function",
    "builtin_function_or_method",
    "instance",
    "_Feature"
   ],
   "window_display": false
  }
 },
 "nbformat": 4,
 "nbformat_minor": 2
}
